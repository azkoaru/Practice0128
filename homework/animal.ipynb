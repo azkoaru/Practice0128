{
 "cells": [
  {
   "cell_type": "code",
   "execution_count": 10,
   "metadata": {},
   "outputs": [
    {
     "name": "stdout",
     "output_type": "stream",
     "text": [
      "它是貓\n"
     ]
    }
   ],
   "source": [
    "\n",
    "has_hair = input(\"動物是否有毛？(是/否)：\")\n",
    "is_large = input(\"動物是否是大的？(是/否)：\")\n",
    "\n",
    "if has_hair == '是':\n",
    "    if is_large == '是':\n",
    "        print(\"它是熊\")\n",
    "    else:\n",
    "        print(\"它是貓\")\n",
    "else:\n",
    "    if is_large == '是':\n",
    "        print(\"它是人類或沒有毛的熊\")\n",
    "    else:\n",
    "        print(\"它是小蜥蜴\")\n",
    "\n",
    "# 測試\n",
    "\n"
   ]
  }
 ],
 "metadata": {
  "kernelspec": {
   "display_name": "Python 3",
   "language": "python",
   "name": "python3"
  },
  "language_info": {
   "codemirror_mode": {
    "name": "ipython",
    "version": 3
   },
   "file_extension": ".py",
   "mimetype": "text/x-python",
   "name": "python",
   "nbconvert_exporter": "python",
   "pygments_lexer": "ipython3",
   "version": "3.10.13"
  }
 },
 "nbformat": 4,
 "nbformat_minor": 2
}
