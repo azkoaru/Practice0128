{
 "cells": [
  {
   "cell_type": "code",
   "execution_count": 1,
   "metadata": {},
   "outputs": [
    {
     "name": "stdout",
     "output_type": "stream",
     "text": [
      "梯形的面積為： 75.0\n"
     ]
    }
   ],
   "source": [
    "def calculate_trapezoid_area(upper_base, lower_base, height):\n",
    "    \"\"\"\n",
    "    Calculate the area of a trapezoid given its upper base, lower base, and height.\n",
    "    \"\"\"\n",
    "    area = (upper_base + lower_base) * height / 2\n",
    "    return area\n",
    "\n",
    "def main():\n",
    "    # 讓使用者輸入梯形的上底、下底及高\n",
    "    upper_base = float(input(\"請輸入梯形的上底：\"))\n",
    "    lower_base = float(input(\"請輸入梯形的下底：\"))\n",
    "    height = float(input(\"請輸入梯形的高：\"))\n",
    "\n",
    "    # 計算梯形的面積\n",
    "    area = calculate_trapezoid_area(upper_base, lower_base, height)\n",
    "\n",
    "    # 顯示結果\n",
    "    print(\"梯形的面積為：\", area)\n",
    "\n",
    "if __name__ == \"__main__\":\n",
    "    main()\n"
   ]
  }
 ],
 "metadata": {
  "kernelspec": {
   "display_name": "Python 3",
   "language": "python",
   "name": "python3"
  },
  "language_info": {
   "codemirror_mode": {
    "name": "ipython",
    "version": 3
   },
   "file_extension": ".py",
   "mimetype": "text/x-python",
   "name": "python",
   "nbconvert_exporter": "python",
   "pygments_lexer": "ipython3",
   "version": "3.10.13"
  }
 },
 "nbformat": 4,
 "nbformat_minor": 2
}
