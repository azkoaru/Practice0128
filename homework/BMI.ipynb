{
 "cells": [
  {
   "cell_type": "code",
   "execution_count": 3,
   "metadata": {},
   "outputs": [
    {
     "name": "stdout",
     "output_type": "stream",
     "text": [
      "請輸入您的體重（公斤）\n",
      "請輸入您的身高（公尺）\n",
      "您的體重（公斤）為： 122\n",
      "您的身高（公尺）為： 1.5\n",
      "\n",
      "您的BMI為： 54.2\n",
      "您的BMI範圍屬於： 重度肥胖\n"
     ]
    }
   ],
   "source": [
    "# 導入pyip\n",
    "import pyinputplus as pyip\n",
    "\n",
    "try:\n",
    "    # 讓使用者輸入身高和體重\n",
    "    weight = pyip.inputNum(\"請輸入您的體重（公斤）\\n\", min=25, max=150)\n",
    "    height = pyip.inputNum(\"請輸入您的身高（公尺）\", min=0.5, max=2.5)\n",
    "\n",
    "    # 計算BMI\n",
    "    bmi = round(weight / (height ** 2),1)\n",
    "\n",
    "    # 判斷BMI屬於哪個範圍\n",
    "    if bmi < 18.5:\n",
    "        category = \"體重過輕\"\n",
    "    elif 18.5 <= bmi < 24:\n",
    "        category = \"正常範圍\"\n",
    "    elif 24 <= bmi < 27:\n",
    "        category = \"過重\"\n",
    "    elif 27 <= bmi < 30:\n",
    "        category = \"輕度肥胖\"\n",
    "    elif 30 <= bmi < 35:\n",
    "        category = \"中度肥胖\"\n",
    "    else:\n",
    "        category = \"重度肥胖\"\n",
    "\n",
    "    # 輸出結果\n",
    "    print(\"\\n您的體重（公斤）為：\",weight)\n",
    "    print(\"您的身高（公尺）為：\",height)\n",
    "    print(\"\\n您的BMI為：\",bmi)\n",
    "    print(\"您的BMI範圍屬於：\",category)\n",
    "\n",
    "except:\n",
    "    print(\"格式有誤，請再試著輸入一次\")"
   ]
  }
 ],
 "metadata": {
  "kernelspec": {
   "display_name": "Python 3",
   "language": "python",
   "name": "python3"
  },
  "language_info": {
   "codemirror_mode": {
    "name": "ipython",
    "version": 3
   },
   "file_extension": ".py",
   "mimetype": "text/x-python",
   "name": "python",
   "nbconvert_exporter": "python",
   "pygments_lexer": "ipython3",
   "version": "3.10.13"
  }
 },
 "nbformat": 4,
 "nbformat_minor": 2
}
