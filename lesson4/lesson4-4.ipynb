{
 "cells": [
  {
   "cell_type": "code",
   "execution_count": 2,
   "metadata": {},
   "outputs": [
    {
     "name": "stdout",
     "output_type": "stream",
     "text": [
      "請輸入學生分數(最高300分):Number must be at maximum 300.\n",
      "請輸入學生分數(最高300分):Number must be at minimum 0.\n",
      "請輸入學生分數(最高300分):'23z' is not an integer.\n",
      "請輸入學生分數(最高300分):223\n",
      "請問是否符合加分條件(請選擇1或2)\n",
      "1. 是\n",
      "2. 否\n",
      "學生分數為234\n"
     ]
    }
   ],
   "source": [
    "import pyinputplus as pyip\n",
    "\n",
    "scores:float = pyip.inputInt(\"請輸入學生分數(最高300分):\",min=0,max=300)\n",
    "print(scores)\n",
    "is_add:str = pyip.inputMenu([\"是\",\"否\"],\n",
    "                            prompt=\"請問是否符合加分條件(請選擇1或2)\\n\",\n",
    "                            numbered=True\n",
    "                            )\n",
    "if is_add == \"是\":\n",
    "    scores *=1.05\n",
    "    if scores >300:\n",
    "        scores = 300\n",
    "print(f\"學生分數為{scores:.0f}\")\n"
   ]
  }
 ],
 "metadata": {
  "kernelspec": {
   "display_name": "Python 3",
   "language": "python",
   "name": "python3"
  },
  "language_info": {
   "codemirror_mode": {
    "name": "ipython",
    "version": 3
   },
   "file_extension": ".py",
   "mimetype": "text/x-python",
   "name": "python",
   "nbconvert_exporter": "python",
   "pygments_lexer": "ipython3",
   "version": "3.10.13"
  }
 },
 "nbformat": 4,
 "nbformat_minor": 2
}
