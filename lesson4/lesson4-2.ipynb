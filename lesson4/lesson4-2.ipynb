{
 "cells": [
  {
   "cell_type": "code",
   "execution_count": 5,
   "metadata": {},
   "outputs": [
    {
     "name": "stdout",
     "output_type": "stream",
     "text": [
      "請輸入數字:'asdf' is not a number.\n",
      "請輸入數字:Number must be at maximum 300.\n",
      "請輸入數字:Number must be at minimum 0.\n",
      "請輸入數字:29\n"
     ]
    }
   ],
   "source": [
    "import pyinputplus as pyip\n",
    "\n",
    "\n",
    "value = pyip.inputNum(prompt=\"請輸入數字:\",min=0,max=300)\n",
    "print(value)"
   ]
  },
  {
   "cell_type": "code",
   "execution_count": 4,
   "metadata": {},
   "outputs": [
    {
     "name": "stdout",
     "output_type": "stream",
     "text": [
      "請輸入yes,no:no\n"
     ]
    }
   ],
   "source": [
    "import pyinputplus as pyip\n",
    "is_yes = pyip.inputYesNo(\"請輸入yes,no:\")\n",
    "print(is_yes)"
   ]
  },
  {
   "cell_type": "code",
   "execution_count": 2,
   "metadata": {},
   "outputs": [
    {
     "name": "stdout",
     "output_type": "stream",
     "text": [
      "請輸入下列3個:\n",
      "1. 早上\n",
      "2. 中午\n",
      "3. 晚上\n",
      "早上\n"
     ]
    }
   ],
   "source": [
    "import pyinputplus as pyip\n",
    "state = pyip.inputMenu([\"早上\",\"中午\",\"晚上\"],\n",
    "                       prompt=\"請輸入下列3個:\\n\",\n",
    "                       numbered=True,\n",
    "                       blank=True\n",
    "                       )\n",
    "print(state)"
   ]
  }
 ],
 "metadata": {
  "kernelspec": {
   "display_name": "Python 3",
   "language": "python",
   "name": "python3"
  },
  "language_info": {
   "codemirror_mode": {
    "name": "ipython",
    "version": 3
   },
   "file_extension": ".py",
   "mimetype": "text/x-python",
   "name": "python",
   "nbconvert_exporter": "python",
   "pygments_lexer": "ipython3",
   "version": "3.10.13"
  }
 },
 "nbformat": 4,
 "nbformat_minor": 2
}
