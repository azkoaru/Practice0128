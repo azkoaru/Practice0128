{
 "cells": [
  {
   "cell_type": "code",
   "execution_count": 1,
   "metadata": {},
   "outputs": [
    {
     "name": "stdout",
     "output_type": "stream",
     "text": [
      "請輸入學生數量:class1.csv存檔完成\n"
     ]
    }
   ],
   "source": [
    "import pyinputplus as pyip\n",
    "import random\n",
    "import csv\n",
    "\n",
    "def get_student(n:int)->list[dict]:\n",
    "    students:list[dict] = []\n",
    "    for _ in range(n):\n",
    "        student:dict[str,int] = {}\n",
    "        for subject in ['國文','英文','數學']:\n",
    "            student[subject] = random.randint(50,100)\n",
    "        students.append(student)\n",
    "    return students\n",
    "\n",
    "def save_csvfile(fn:str,data:list[dict[str,int]]):\n",
    "    '''\n",
    "    儲存為csv檔\n",
    "    參數fn:str -> 檔案名稱\n",
    "    參數data:list[dict] -> dict內的key,必需是[國文,數學,英文]\n",
    "    '''\n",
    "    with open(fn,mode='w',encoding='utf-8',newline='') as csvfile:\n",
    "        writer = csv.DictWriter(csvfile,fieldnames=['國文','數學','英文'])\n",
    "        writer.writeheader()\n",
    "        writer.writerows(data)\n",
    "    print(f'{fn}存檔完成')\n",
    "\n",
    "def main():\n",
    "    nums = pyip.inputInt(\"請輸入學生數量:\")\n",
    "    stus = get_student(n=nums)\n",
    "    fileName = input('請輸入檔案名稱:')\n",
    "    csvName = f'{fileName}.csv'\n",
    "    save_csvfile(fn=csvName,data=stus)\n",
    "\n",
    "\n",
    "main()"
   ]
  }
 ],
 "metadata": {
  "kernelspec": {
   "display_name": "Python 3",
   "language": "python",
   "name": "python3"
  },
  "language_info": {
   "codemirror_mode": {
    "name": "ipython",
    "version": 3
   },
   "file_extension": ".py",
   "mimetype": "text/x-python",
   "name": "python",
   "nbconvert_exporter": "python",
   "pygments_lexer": "ipython3",
   "version": "3.10.13"
  }
 },
 "nbformat": 4,
 "nbformat_minor": 2
}
