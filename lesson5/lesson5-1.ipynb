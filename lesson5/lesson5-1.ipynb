{
 "cells": [
  {
   "cell_type": "code",
   "execution_count": 1,
   "metadata": {},
   "outputs": [],
   "source": [
    "import random\n",
    "students:list[dict] = []\n",
    "\n",
    "for _ in range(50):\n",
    "    student:dict[str,int] = {}\n",
    "    for subject in ['國文','英文','數學']:\n",
    "        student[subject] = random.randint(50,100)\n",
    "    students.append(student)\n",
    "students"
   ]
  },
  {
   "cell_type": "code",
   "execution_count": 2,
   "metadata": {},
   "outputs": [
    {
     "name": "stdout",
     "output_type": "stream",
     "text": [
      "請輸入學生數量:'d' is not an integer.\n",
      "請輸入學生數量:"
     ]
    },
    {
     "data": {
      "text/plain": [
       "[{'國文': 89, '英文': 96, '數學': 89},\n",
       " {'國文': 53, '英文': 69, '數學': 80},\n",
       " {'國文': 86, '英文': 84, '數學': 96},\n",
       " {'國文': 73, '英文': 61, '數學': 85},\n",
       " {'國文': 58, '英文': 85, '數學': 94},\n",
       " {'國文': 73, '英文': 83, '數學': 99},\n",
       " {'國文': 51, '英文': 93, '數學': 75},\n",
       " {'國文': 60, '英文': 77, '數學': 84},\n",
       " {'國文': 96, '英文': 66, '數學': 94},\n",
       " {'國文': 77, '英文': 53, '數學': 78},\n",
       " {'國文': 78, '英文': 73, '數學': 100},\n",
       " {'國文': 88, '英文': 57, '數學': 62}]"
      ]
     },
     "execution_count": 2,
     "metadata": {},
     "output_type": "execute_result"
    }
   ],
   "source": [
    "import random\n",
    "import pyinputplus as pyip\n",
    "\n",
    "nums = pyip.inputInt(\"請輸入學生數量:\")\n",
    "students:list[dict] = []\n",
    "\n",
    "for _ in range(nums):\n",
    "    student:dict[str,int] = {}\n",
    "    for subject in ['國文','英文','數學']:\n",
    "        student[subject] = random.randint(50,100)\n",
    "    students.append(student)\n",
    "students"
   ]
  }
 ],
 "metadata": {
  "kernelspec": {
   "display_name": "Python 3",
   "language": "python",
   "name": "python3"
  },
  "language_info": {
   "codemirror_mode": {
    "name": "ipython",
    "version": 3
   },
   "file_extension": ".py",
   "mimetype": "text/x-python",
   "name": "python",
   "nbconvert_exporter": "python",
   "pygments_lexer": "ipython3",
   "version": "3.10.13"
  }
 },
 "nbformat": 4,
 "nbformat_minor": 2
}
